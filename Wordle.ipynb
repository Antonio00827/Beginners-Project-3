{
 "cells": [
  {
   "cell_type": "code",
   "execution_count": 9,
   "metadata": {},
   "outputs": [
    {
     "name": "stdout",
     "output_type": "stream",
     "text": [
      "a 🟧 u ⬛ d 🟧 i ⬛ o ⬛  \n",
      "j ⬛ u ⬛ l ⬛ i ⬛ a 🟧  \n",
      "d 🟩 e 🟩 a 🟩 t 🟩 h 🟩 You win!\n",
      " \n"
     ]
    }
   ],
   "source": [
    "import random\n",
    "guessesleft = 6\n",
    "wordspossible = [\"b o o k s\", \"c r a z y\", \"d e a t h\", \"w r i t e\", \"c o d e s\", \"j u l i a\"]\n",
    "word = wordspossible[random.randint(0, len(wordspossible))]\n",
    "gamewon = False\n",
    "while guessesleft != 0 and gamewon == False:\n",
    "    correctplace = 0\n",
    "    guess = input(\"Please enter a 5 letter word. Put spaces inbetween them please\").lower()\n",
    "    for i in range (5):\n",
    "        if guess[i] == word.split(\" \")[i]:\n",
    "            print(guess[i], \"🟩\", end = \" \")\n",
    "            correctplace += 1\n",
    "            if correctplace == 5:\n",
    "                print(\"You win!\")\n",
    "                gamewon = True\n",
    "        elif guess[i] == word.split(\" \")[0] or guess[i] == word.split(\" \")[1] or guess[i] == word.split(\" \")[2] or guess[i] == word.split(\" \")[3] or guess[i] == word.split(\" \")[4]:\n",
    "            print(guess[i], \"🟧\", end = \" \")\n",
    "        else:\n",
    "            print(guess[i], \"⬛\", end = \" \")\n",
    "    print(\" \")\n",
    "    if guessesleft == 0:\n",
    "        print(\"The word was\", word)\n",
    "        break"
   ]
  }
 ],
 "metadata": {
  "kernelspec": {
   "display_name": "Python 3",
   "language": "python",
   "name": "python3"
  },
  "language_info": {
   "codemirror_mode": {
    "name": "ipython",
    "version": 3
   },
   "file_extension": ".py",
   "mimetype": "text/x-python",
   "name": "python",
   "nbconvert_exporter": "python",
   "pygments_lexer": "ipython3",
   "version": "3.11.9"
  }
 },
 "nbformat": 4,
 "nbformat_minor": 2
}
